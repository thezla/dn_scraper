{
 "cells": [
  {
   "cell_type": "code",
   "execution_count": 28,
   "id": "changed-handbook",
   "metadata": {},
   "outputs": [],
   "source": [
    "from bs4 import BeautifulSoup\n",
    "import pandas as pd\n",
    "import requests"
   ]
  },
  {
   "cell_type": "code",
   "execution_count": 195,
   "id": "failing-norwegian",
   "metadata": {},
   "outputs": [],
   "source": [
    "dn_response = requests.get(\"https://www.dn.se/\")"
   ]
  },
  {
   "cell_type": "code",
   "execution_count": 196,
   "id": "gentle-machine",
   "metadata": {},
   "outputs": [],
   "source": [
    "dn_html = BeautifulSoup(dn_response.text, \"html.parser\")"
   ]
  },
  {
   "cell_type": "code",
   "execution_count": 31,
   "id": "reflected-stadium",
   "metadata": {},
   "outputs": [],
   "source": []
  },
  {
   "cell_type": "code",
   "execution_count": 200,
   "id": "wrong-guyana",
   "metadata": {},
   "outputs": [],
   "source": [
    "h1_tags = dn_html.find_all(\"h1\")\n",
    "data = []\n",
    "skip_headlines = [\"Dagens Nyheter\"]\n",
    "\n",
    "for h1 in h1_tags:\n",
    "    h1_dict = {}\n",
    "    h1_text = \" \".join(h1.text.split())\n",
    "    \n",
    "    if h1_text not in skip_headlines:\n",
    "        data.append(h1_dict)\n",
    "    \n",
    "    h1_dict['Headline'] = h1_text"
   ]
  },
  {
   "cell_type": "code",
   "execution_count": 203,
   "id": "resident-mitchell",
   "metadata": {},
   "outputs": [],
   "source": [
    "df = pd.DataFrame(headlines)"
   ]
  },
  {
   "cell_type": "code",
   "execution_count": 204,
   "id": "republican-punch",
   "metadata": {},
   "outputs": [
    {
     "data": {
      "text/html": [
       "<div>\n",
       "<style scoped>\n",
       "    .dataframe tbody tr th:only-of-type {\n",
       "        vertical-align: middle;\n",
       "    }\n",
       "\n",
       "    .dataframe tbody tr th {\n",
       "        vertical-align: top;\n",
       "    }\n",
       "\n",
       "    .dataframe thead th {\n",
       "        text-align: right;\n",
       "    }\n",
       "</style>\n",
       "<table border=\"1\" class=\"dataframe\">\n",
       "  <thead>\n",
       "    <tr style=\"text-align: right;\">\n",
       "      <th></th>\n",
       "      <th>Headline</th>\n",
       "    </tr>\n",
       "  </thead>\n",
       "  <tbody>\n",
       "    <tr>\n",
       "      <th>0</th>\n",
       "      <td>Märta Stenevi blir nytt språkrör för Miljöpartiet</td>\n",
       "    </tr>\n",
       "    <tr>\n",
       "      <th>1</th>\n",
       "      <td>Lockas av makt och inflytande: ”Jag är inte rädd”</td>\n",
       "    </tr>\n",
       "    <tr>\n",
       "      <th>2</th>\n",
       "      <td>Ewa Stenberg: Kan MP:s ”Modesty Blaise” skapa ...</td>\n",
       "    </tr>\n",
       "    <tr>\n",
       "      <th>3</th>\n",
       "      <td>Tusentals frihetsberövade i nya protester</td>\n",
       "    </tr>\n",
       "    <tr>\n",
       "      <th>4</th>\n",
       "      <td>Moskva</td>\n",
       "    </tr>\n",
       "    <tr>\n",
       "      <th>...</th>\n",
       "      <td>...</td>\n",
       "    </tr>\n",
       "    <tr>\n",
       "      <th>75</th>\n",
       "      <td>5 favoriter: Film, tv, konst, musik och bok</td>\n",
       "    </tr>\n",
       "    <tr>\n",
       "      <th>76</th>\n",
       "      <td>DN:s ungdomspaket för dig mellan 18 och 25 år</td>\n",
       "    </tr>\n",
       "    <tr>\n",
       "      <th>77</th>\n",
       "      <td>Brittiska artisten Sophie död i fallolycka</td>\n",
       "    </tr>\n",
       "    <tr>\n",
       "      <th>78</th>\n",
       "      <td>Läs serierna!</td>\n",
       "    </tr>\n",
       "    <tr>\n",
       "      <th>79</th>\n",
       "      <td>Nio ungdomar gick mot döden – kan gåtan lösas?</td>\n",
       "    </tr>\n",
       "  </tbody>\n",
       "</table>\n",
       "<p>80 rows × 1 columns</p>\n",
       "</div>"
      ],
      "text/plain": [
       "                                             Headline\n",
       "0   Märta Stenevi blir nytt språkrör för Miljöpartiet\n",
       "1   Lockas av makt och inflytande: ”Jag är inte rädd”\n",
       "2   Ewa Stenberg: Kan MP:s ”Modesty Blaise” skapa ...\n",
       "3           Tusentals frihetsberövade i nya protester\n",
       "4                                              Moskva\n",
       "..                                                ...\n",
       "75        5 favoriter: Film, tv, konst, musik och bok\n",
       "76      DN:s ungdomspaket för dig mellan 18 och 25 år\n",
       "77         Brittiska artisten Sophie död i fallolycka\n",
       "78                                      Läs serierna!\n",
       "79     Nio ungdomar gick mot döden – kan gåtan lösas?\n",
       "\n",
       "[80 rows x 1 columns]"
      ]
     },
     "execution_count": 204,
     "metadata": {},
     "output_type": "execute_result"
    }
   ],
   "source": [
    "df"
   ]
  },
  {
   "cell_type": "code",
   "execution_count": 205,
   "id": "billion-annotation",
   "metadata": {
    "scrolled": true
   },
   "outputs": [
    {
     "name": "stdout",
     "output_type": "stream",
     "text": [
      "[{'Title': 'Astra Zeneca utökar sina leveranser till EU', 'Subtitle': '”Vi får se om det räcker”, säger Sveriges vaccinsamordnare Richard Bergström.', 'Link': 'https://www.dn.se/sverige/astra-zeneca-utokar-sina-leveranser-till-eu/'}, {'Title': 'Djupa sprickor i partiet – här är arvet efter Trump', 'Subtitle': 'Topprepublikanen Liz Cheney vågade vända sig mot Trump, nu buas hon ut på hemmaplan.', 'Link': 'https://www.dn.se/varlden/jag-arbetar-for-att-vinna-sedan-far-partiet-tid-for-att-laka/'}, {'Title': '5.000 frihetsberövades under protesterna', 'Subtitle': 'Det högsta antalet på en dag i Ryslsland - Julia Navalnaja har släppts ur häktet', 'Link': 'https://www.dn.se/varlden/stora-protester-i-ryssland-vantas-pa-sondagen/'}, {'Title': '”Kändes som om vi hade chansen att vinna”', 'Subtitle': 'Sverige förlorade VM-finalen mot Danmark - ”Målvakten som avgör”.', 'Link': 'https://www.dn.se/sport/live-17-30-sverige-moter-danmark-i-vm-final/'}, {'Title': 'Märta Stenevi blir nytt språkrör för Miljöpartiet', 'Subtitle': 'Vann med klar majoritet och tar över efter Isabella Lövin - ”Fyra procent duger inte.”', 'Link': 'https://www.dn.se/sverige/marta-stenevi-vald-till-nytt-sprakror-for-miljopartiet/'}, {'Title': 'Duplantis vann i säsongspremiären', 'Subtitle': 'Stavhopparen Armand Duplantis hopp på 6,01 gav seger och världsårsbästa i Düsseldorf.', 'Link': 'https://www.dn.se/sport/duplantis-forlangde-segersviten-varldsarsbasta-i-premiaren/'}, {'Title': 'Norska rasande på Svahn – som vann sprinten', 'Subtitle': 'Linn Svahns succé fortsätter – men en konkurrent fick lust att ”göra en Bolsjunov”.', 'Link': 'https://www.dn.se/sport/norskan-rasande-pa-svahn-ville-gora-en-bolsjunov-och-sla-efter-henne/'}, {'Title': 'Advokater uppges lämna riksrättsgrupp', 'Subtitle': 'Lämnar presidentens försvarsteam två veckor innan riksrätten mot expresidenten, enligt CNN.', 'Link': 'https://www.dn.se/varlden/tva-advokater-fran-trumps-riksrattsgrupp-hoppar-av/'}, {'Title': 'Insändare. ”Skippa flyget och välj tåg eller cykel på semestern”', 'Subtitle': 'Se till att flygplanen som står stilla under pandemin stannar kvar på marken.', 'Link': 'https://www.dn.se/insandare/skippa-flyget-och-valj-tag-eller-cykel-pa-semestern/'}, {'Title': 'Plexiglaset spräckte Djurgårdens målnolla', 'Subtitle': 'Djurgårdens turmål mot Leksand gav ny energi som gjorde att de hämtade upp ett 0–2-underläge.', 'Link': 'https://www.dn.se/sport/plexiglaset-sprackte-djurgardens-malnolla/'}, {'Title': 'Nya elbilar är små och enkla transportbilar', 'Subtitle': 'Budfirmor och \\xadserviceföretag bland kunderna.', 'Link': 'https://www.dn.se/motor/de-nya-elbilarna-sma-och-enkla-transportorer/'}, {'Title': 'Nya fynd vittnar om brutala strider i Mexiko', 'Subtitle': 'Spanska erövrare dödade alla invånare som inte hann fly för 500 år sedan.', 'Link': 'https://www.dn.se/kultur/vasterbros-historia-fynd-vittnar-om-brutala-erovringen-av-mexiko/'}, {'Title': 'Sudoku', 'Subtitle': '', 'Link': 'https://www.dn.se/webbspel/sudoku/'}]\n"
     ]
    }
   ],
   "source": [
    "teaser_container = dn_html.find_all('div', {'class': 'teaser-package__content'})\n",
    "\n",
    "master_list = []\n",
    "\n",
    "for teaser in teaser_container:\n",
    "    data_dict = {}\n",
    "    t = teaser.find(\"div\", {\"class\": \"teaser__content\"})\n",
    "\n",
    "    try:\n",
    "        title = ' '.join(t.h1.text.split())\n",
    "        title = title.replace('•', '').strip()\n",
    "        data_dict['Title'] = title\n",
    "    except:\n",
    "        pass\n",
    "    \n",
    "    try:\n",
    "        subtitle = ' '.join(t.p.text.split())\n",
    "        subtitle = subtitle.replace('•', '-').replace('TV | TEXT', '').replace('LIVE', '').strip()\n",
    "        data_dict['Subtitle'] = subtitle\n",
    "    except:\n",
    "        data_dict['Subtitle'] = ''\n",
    "    \n",
    "    try:\n",
    "        link = 'https://www.dn.se'+teaser.find('a')['href']\n",
    "        data_dict['Link'] = link\n",
    "    except:\n",
    "        pass\n",
    "    master_list.append(data_dict)\n",
    "\n",
    "print(master_list)"
   ]
  },
  {
   "cell_type": "code",
   "execution_count": 206,
   "id": "innocent-filling",
   "metadata": {},
   "outputs": [],
   "source": [
    "df = pd.DataFrame(master_list)"
   ]
  },
  {
   "cell_type": "code",
   "execution_count": 210,
   "id": "retained-sodium",
   "metadata": {},
   "outputs": [],
   "source": [
    "from datetime import datetime\n",
    "date = datetime.today().strftime('%Y-%m-%d_%H:%M:%S')\n",
    "df.to_csv(f'DN_Förstasidan_{date}.csv', index=False)"
   ]
  },
  {
   "cell_type": "code",
   "execution_count": null,
   "id": "convenient-international",
   "metadata": {},
   "outputs": [],
   "source": []
  }
 ],
 "metadata": {
  "kernelspec": {
   "display_name": "Python 3",
   "language": "python",
   "name": "python3"
  },
  "language_info": {
   "codemirror_mode": {
    "name": "ipython",
    "version": 3
   },
   "file_extension": ".py",
   "mimetype": "text/x-python",
   "name": "python",
   "nbconvert_exporter": "python",
   "pygments_lexer": "ipython3",
   "version": "3.9.1"
  }
 },
 "nbformat": 4,
 "nbformat_minor": 5
}
