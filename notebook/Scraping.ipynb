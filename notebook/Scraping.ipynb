{
 "cells": [
  {
   "cell_type": "code",
   "execution_count": 214,
   "id": "desirable-beach",
   "metadata": {},
   "outputs": [],
   "source": [
    "from bs4 import BeautifulSoup\n",
    "import pandas as pd\n",
    "import requests"
   ]
  },
  {
   "cell_type": "code",
   "execution_count": 215,
   "id": "sonic-treasury",
   "metadata": {},
   "outputs": [],
   "source": [
    "dn_response = requests.get(\"https://www.dn.se/\")"
   ]
  },
  {
   "cell_type": "code",
   "execution_count": 216,
   "id": "creative-thailand",
   "metadata": {},
   "outputs": [],
   "source": [
    "dn_html = BeautifulSoup(dn_response.text, \"html.parser\")"
   ]
  },
  {
   "cell_type": "code",
   "execution_count": 220,
   "id": "stylish-session",
   "metadata": {
    "scrolled": true
   },
   "outputs": [],
   "source": [
    "teaser_container = dn_html.find_all('div', {'class': 'teaser-package__content'})\n",
    "\n",
    "master_list = []\n",
    "\n",
    "for teaser in teaser_container:\n",
    "    data_dict = {}\n",
    "    tc = teaser.find(\"div\", {\"class\": \"teaser__content\"})\n",
    "\n",
    "    try:\n",
    "        title = ' '.join(tc.h1.text.split())\n",
    "        title = title.replace('•', '').strip()\n",
    "        data_dict['Title'] = title\n",
    "    except:\n",
    "        continue\n",
    "    \n",
    "    try:\n",
    "        subtitle = ' '.join(tc.p.text.split())\n",
    "        subtitle = subtitle.replace('•', '-').replace('TV | TEXT', '').replace('LIVE', '').strip()\n",
    "        data_dict['Subtitle'] = subtitle\n",
    "    except:\n",
    "        data_dict['Subtitle'] = ''\n",
    "    \n",
    "    try:\n",
    "        link = 'https://www.dn.se'+teaser.find('a')['href']\n",
    "        data_dict['Link'] = link\n",
    "    except:\n",
    "        pass\n",
    "    master_list.append(data_dict)"
   ]
  },
  {
   "cell_type": "code",
   "execution_count": 221,
   "id": "wooden-level",
   "metadata": {},
   "outputs": [],
   "source": [
    "df = pd.DataFrame(master_list)"
   ]
  },
  {
   "cell_type": "code",
   "execution_count": 222,
   "id": "after-bibliography",
   "metadata": {},
   "outputs": [],
   "source": [
    "from datetime import datetime\n",
    "date = datetime.today().strftime('%Y-%m-%d_%H:%M:%S')\n",
    "output_dir = 'output'\n",
    "df.to_csv(f'{output_dir}/DN_Förstasidan_{date}.csv', index=False)"
   ]
  },
  {
   "cell_type": "code",
   "execution_count": null,
   "id": "personalized-pastor",
   "metadata": {},
   "outputs": [],
   "source": []
  }
 ],
 "metadata": {
  "kernelspec": {
   "display_name": "Python 3",
   "language": "python",
   "name": "python3"
  },
  "language_info": {
   "codemirror_mode": {
    "name": "ipython",
    "version": 3
   },
   "file_extension": ".py",
   "mimetype": "text/x-python",
   "name": "python",
   "nbconvert_exporter": "python",
   "pygments_lexer": "ipython3",
   "version": "3.9.1"
  }
 },
 "nbformat": 4,
 "nbformat_minor": 5
}
